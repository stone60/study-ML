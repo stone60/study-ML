{
 "cells": [
  {
   "cell_type": "code",
   "execution_count": 1,
   "metadata": {},
   "outputs": [],
   "source": [
    "%matplotlib inline\n",
    "from IPython.display import Image\n",
    "import matplotlib.pyplot as plt\n",
    "import numpy as np"
   ]
  },
  {
   "cell_type": "markdown",
   "metadata": {},
   "source": [
    "## 第１問　Hello World! と５回表示するプログラムを書いてください"
   ]
  },
  {
   "cell_type": "code",
   "execution_count": 2,
   "metadata": {},
   "outputs": [
    {
     "name": "stdout",
     "output_type": "stream",
     "text": [
      "Hello World!\n",
      "Hello World!\n",
      "Hello World!\n",
      "Hello World!\n",
      "Hello World!\n"
     ]
    }
   ],
   "source": [
    "for m in range(5):\n",
    "        print(\"Hello World!\")"
   ]
  },
  {
   "cell_type": "markdown",
   "metadata": {},
   "source": [
    "## 第２問　キー入力させ、その文字を５回表示するプログラムを書いてください"
   ]
  },
  {
   "cell_type": "code",
   "execution_count": 3,
   "metadata": {},
   "outputs": [
    {
     "name": "stdout",
     "output_type": "stream",
     "text": [
      "キーを入力してください\n",
      "a\n",
      "a\n",
      "a\n",
      "a\n",
      "a\n"
     ]
    }
   ],
   "source": [
    "print('キーを入力してください')\n",
    "c = input()\n",
    "for i in range(4):\n",
    "    print(c)\n",
    "\n",
    "# キー入力した時点でコンソールに入力した内容が表示されるので６回出る。そこでループ回数を１つ減らしている"
   ]
  },
  {
   "cell_type": "markdown",
   "metadata": {},
   "source": [
    "## 第３問　１から１０まで数字を表示し３で割り切れたら、Bingo! と表示する"
   ]
  },
  {
   "cell_type": "code",
   "execution_count": 4,
   "metadata": {},
   "outputs": [
    {
     "name": "stdout",
     "output_type": "stream",
     "text": [
      "1\n",
      "2\n",
      "3 Bingo!\n",
      "4\n",
      "5\n",
      "6 Bingo!\n",
      "7\n",
      "8\n",
      "9 Bingo!\n",
      "10\n"
     ]
    }
   ],
   "source": [
    "for m in range(10):\n",
    "    x = m+1\n",
    "    if x%3 == 0:\n",
    "        print(x, 'Bingo!')\n",
    "    else:\n",
    "        print(x)"
   ]
  },
  {
   "cell_type": "markdown",
   "metadata": {},
   "source": [
    "## 第４問　次のプログラムをラムダ式で記述してください"
   ]
  },
  {
   "cell_type": "code",
   "execution_count": 9,
   "metadata": {},
   "outputs": [],
   "source": [
    "def dummy(num):\n",
    "    if num < 0:\n",
    "        return -1*num\n",
    "    else:\n",
    "        return 10*num"
   ]
  },
  {
   "cell_type": "code",
   "execution_count": 10,
   "metadata": {
    "scrolled": true
   },
   "outputs": [
    {
     "data": {
      "text/plain": [
       "19"
      ]
     },
     "execution_count": 10,
     "metadata": {},
     "output_type": "execute_result"
    }
   ],
   "source": [
    "ans = dummy(-19)\n",
    "ans"
   ]
  },
  {
   "cell_type": "code",
   "execution_count": 13,
   "metadata": {},
   "outputs": [
    {
     "name": "stdout",
     "output_type": "stream",
     "text": [
      "19\n"
     ]
    }
   ],
   "source": [
    "ts = lambda x : -x if x <0 else 10*x\n",
    "print(ts(-19))"
   ]
  },
  {
   "cell_type": "markdown",
   "metadata": {},
   "source": [
    "## 第５問 1から100までの数字の偶数、奇数をそれぞれリストにわけて表示する"
   ]
  },
  {
   "cell_type": "code",
   "execution_count": 9,
   "metadata": {},
   "outputs": [
    {
     "name": "stdout",
     "output_type": "stream",
     "text": [
      "偶数 [2, 4, 6, 8, 10, 12, 14, 16, 18, 20, 22, 24, 26, 28, 30, 32, 34, 36, 38, 40, 42, 44, 46, 48, 50, 52, 54, 56, 58, 60, 62, 64, 66, 68, 70, 72, 74, 76, 78, 80, 82, 84, 86, 88, 90, 92, 94, 96, 98, 100]\n",
      "奇数 [1, 3, 5, 7, 9, 11, 13, 15, 17, 19, 21, 23, 25, 27, 29, 31, 33, 35, 37, 39, 41, 43, 45, 47, 49, 51, 53, 55, 57, 59, 61, 63, 65, 67, 69, 71, 73, 75, 77, 79, 81, 83, 85, 87, 89, 91, 93, 95, 97, 99]\n"
     ]
    }
   ],
   "source": [
    "even = []\n",
    "odd = []\n",
    "\n",
    "for i in range(1, 101):\n",
    "  if i%2 == 0:\n",
    "    even.append(i)\n",
    "  elif i%2 == 1:\n",
    "    odd.append(i)\n",
    "\n",
    "print(\"偶数\", even)\n",
    "print(\"奇数\", odd)"
   ]
  },
  {
   "cell_type": "markdown",
   "metadata": {},
   "source": [
    "### 上記の偶数リストで、１２の倍数になるものを別のリストとして作成し表示する"
   ]
  },
  {
   "cell_type": "code",
   "execution_count": 10,
   "metadata": {},
   "outputs": [
    {
     "name": "stdout",
     "output_type": "stream",
     "text": [
      "12の倍数 [12, 24, 36, 48, 60, 72, 84, 96]\n"
     ]
    }
   ],
   "source": [
    "tw = []\n",
    "\n",
    "for x in range(len(even)):\n",
    "    if even[x]%12 == 0:\n",
    "        tw.append(even[x])\n",
    "\n",
    "print(\"12の倍数\", tw)"
   ]
  },
  {
   "cell_type": "markdown",
   "metadata": {},
   "source": [
    "## 第６問　input()を用いて整数を入力し、0以外ならば再度整数を入力でき、0のときは「おしまい」という文字列を出力し、処理を終了させるプログラムを作成してください"
   ]
  },
  {
   "cell_type": "code",
   "execution_count": 12,
   "metadata": {},
   "outputs": [
    {
     "name": "stdout",
     "output_type": "stream",
     "text": [
      "1\n",
      "6\n",
      "0\n",
      "おしまい\n"
     ]
    }
   ],
   "source": [
    "end = True\n",
    "\n",
    "while end:\n",
    "    x = input()\n",
    "    if x == '0':\n",
    "        print(\"おしまい\")\n",
    "        end = False\n",
    "    if x != '0':\n",
    "        x = input()"
   ]
  },
  {
   "cell_type": "markdown",
   "metadata": {},
   "source": [
    "## 第７問　次のプログラムはうまく動作しないので、修正してください"
   ]
  },
  {
   "cell_type": "code",
   "execution_count": 19,
   "metadata": {},
   "outputs": [
    {
     "name": "stdout",
     "output_type": "stream",
     "text": [
      "8\n"
     ]
    }
   ],
   "source": [
    "def plus(x, y):\n",
    "    ans = x + y\n",
    "    return ans\n",
    "\n",
    "n = plus(3, 5)\n",
    "print(n)"
   ]
  },
  {
   "cell_type": "markdown",
   "metadata": {},
   "source": [
    "## 第８問　折れ線グラフを描画してください"
   ]
  },
  {
   "cell_type": "code",
   "execution_count": 13,
   "metadata": {},
   "outputs": [
    {
     "data": {
      "image/png": "[encoded data removed]",
      "text/plain": [
       "<Figure size 432x288 with 1 Axes>"
      ]
     },
     "metadata": {},
     "output_type": "display_data"
    }
   ],
   "source": [
    "x = np.arange(0,20)\n",
    "y = [ 6,  -2,  -1, 17, 13, 10,  7,  0,  8, 19, 15, 14,  -9, 11, 16,  3,  4, -5, 12, 18]\n",
    "# 折れ線グラフを描画\n",
    "\n",
    "# 折れ線\n",
    "plt.plot(x, y, color='blue', marker='o', linestyle='solid')\n",
    "plt.title(\"Test\")\n",
    "plt.show()"
   ]
  },
  {
   "cell_type": "markdown",
   "metadata": {},
   "source": [
    "### yがゼロ以下の場合、その値はゼロとして折れ線グラフを書いてください"
   ]
  },
  {
   "cell_type": "code",
   "execution_count": 14,
   "metadata": {},
   "outputs": [
    {
     "data": {
      "image/png": "[encoded data removed]",
      "text/plain": [
       "<Figure size 432x288 with 1 Axes>"
      ]
     },
     "metadata": {},
     "output_type": "display_data"
    }
   ],
   "source": [
    "for i in range(len(y)):\n",
    "    if y[i] < 0:\n",
    "        y[i] = 0\n",
    "        \n",
    "plt.plot(x, y, color='red', marker='o', linestyle='solid')\n",
    "plt.title(\"Test\")\n",
    "plt.show()"
   ]
  },
  {
   "cell_type": "markdown",
   "metadata": {},
   "source": [
    "## 第９問　３つの数を入力し、数を昇順に並べ替えてから出力するプログラムを作成してください。 \n",
    "数1> 99<br>\n",
    "数2> 48 <br>\n",
    "数3> 11 <br>\n",
    "11 48 99"
   ]
  },
  {
   "cell_type": "code",
   "execution_count": 1,
   "metadata": {},
   "outputs": [
    {
     "name": "stdout",
     "output_type": "stream",
     "text": [
      "数1> 99\n",
      "数2> 48\n",
      "数3> 11\n",
      "11 48 99\n"
     ]
    }
   ],
   "source": [
    "a = int(input('数1> '))\n",
    "b = int(input('数2> '))\n",
    "c = int(input('数3> '))\n",
    "\n",
    "if a > b :\n",
    "    temp = a\n",
    "    a = b\n",
    "    b = temp\n",
    "if a > c :\n",
    "    temp = a\n",
    "    a = c\n",
    "    c = temp\n",
    "#\n",
    "# a が最小。\n",
    "#\n",
    "if b > c :\n",
    "    temp = b\n",
    "    b = c\n",
    "    c = temp\n",
    "print(a,b,c,sep=' ')     "
   ]
  },
  {
   "cell_type": "markdown",
   "metadata": {},
   "source": [
    "## 第１０問　０から３００までの乱数を多数作成し、ヒストグラムで表示するプログラムを作成してください"
   ]
  },
  {
   "cell_type": "code",
   "execution_count": 3,
   "metadata": {},
   "outputs": [
    {
     "data": {
      "text/plain": [
       "(array([11.,  6., 20., 13., 14., 11., 11., 11.,  8., 21., 14., 18., 14.,\n",
       "        12., 12., 18., 11., 24., 13., 13., 12., 15., 15., 15.,  9.,  9.,\n",
       "        12., 10., 18., 10.]),\n",
       " array([  0.        ,   9.93333333,  19.86666667,  29.8       ,\n",
       "         39.73333333,  49.66666667,  59.6       ,  69.53333333,\n",
       "         79.46666667,  89.4       ,  99.33333333, 109.26666667,\n",
       "        119.2       , 129.13333333, 139.06666667, 149.        ,\n",
       "        158.93333333, 168.86666667, 178.8       , 188.73333333,\n",
       "        198.66666667, 208.6       , 218.53333333, 228.46666667,\n",
       "        238.4       , 248.33333333, 258.26666667, 268.2       ,\n",
       "        278.13333333, 288.06666667, 298.        ]),\n",
       " <a list of 30 Patch objects>)"
      ]
     },
     "execution_count": 3,
     "metadata": {},
     "output_type": "execute_result"
    },
    {
     "name": "stderr",
     "output_type": "stream",
     "text": [
      "/anaconda3/lib/python3.6/site-packages/matplotlib/font_manager.py:1320: UserWarning: findfont: Font family ['IPAexGothic'] not found. Falling back to DejaVu Sans\n",
      "  (prop.get_family(), self.defaultFamily[fontext]))\n"
     ]
    },
    {
     "data": {
      "image/png": "[encoded data removed]",
      "text/plain": [
       "<matplotlib.figure.Figure at 0x114d29cf8>"
      ]
     },
     "metadata": {},
     "output_type": "display_data"
    }
   ],
   "source": [
    "from numpy.random import *\n",
    "import matplotlib.pyplot as plt\n",
    "\n",
    "x = randint(0, 300, 400)\n",
    "plt.hist(x, bins=30)"
   ]
  },
  {
   "cell_type": "markdown",
   "metadata": {},
   "source": [
    "## 第１１問　次のプログラムの欠陥を指摘して修正してください"
   ]
  },
  {
   "cell_type": "code",
   "execution_count": 4,
   "metadata": {},
   "outputs": [
    {
     "name": "stdout",
     "output_type": "stream",
     "text": [
      "4\n",
      "11\n"
     ]
    }
   ],
   "source": [
    "def mymin(xlist):\n",
    "    st = 1000000\n",
    "    for i in xlist:\n",
    "        if i < st:\n",
    "            st = i\n",
    "    return(st)\n",
    "\n",
    "a = [6, 9, 13, 4, 5, 19]\n",
    "b = [22, 95, 11, 55]\n",
    "print(mymin(a))\n",
    "print(mymin(b))"
   ]
  },
  {
   "cell_type": "markdown",
   "metadata": {},
   "source": [
    "### stの値が小さい値になるとおかしくなる。st で判断するのではなく、あくまでも与えられたリストの最小値を算出させるべき"
   ]
  },
  {
   "cell_type": "code",
   "execution_count": 5,
   "metadata": {},
   "outputs": [
    {
     "name": "stdout",
     "output_type": "stream",
     "text": [
      "4\n",
      "11\n"
     ]
    }
   ],
   "source": [
    "def mymin2(xlist):\n",
    "    min = xlist[0]\n",
    "    max = xlist[0]\n",
    "    for i in xlist:\n",
    "        if i > max:\n",
    "            max = i\n",
    "        if i < min:\n",
    "            min = i\n",
    "    return(min)\n",
    "\n",
    "a = [6, 9, 13, 4, 5, 19]\n",
    "b = [22, 95, 11, 55]\n",
    "print(mymin(a))\n",
    "print(mymin(b))"
   ]
  },
  {
   "cell_type": "code",
   "execution_count": null,
   "metadata": {},
   "outputs": [],
   "source": []
  }
 ],
 "metadata": {
  "kernelspec": {
   "display_name": "Python 3",
   "language": "python",
   "name": "python3"
  },
  "language_info": {
   "codemirror_mode": {
    "name": "ipython",
    "version": 3
   },
   "file_extension": ".py",
   "mimetype": "text/x-python",
   "name": "python",
   "nbconvert_exporter": "python",
   "pygments_lexer": "ipython3",
   "version": "3.6.4"
  }
 },
 "nbformat": 4,
 "nbformat_minor": 2
}
