{
 "cells": [
  {
   "cell_type": "code",
   "execution_count": null,
   "metadata": {},
   "outputs": [],
   "source": [
    "%matplotlib inline\n",
    "from IPython.display import Image\n",
    "import matplotlib.pyplot as plt\n",
    "import numpy as np"
   ]
  },
  {
   "cell_type": "markdown",
   "metadata": {},
   "source": [
    "## 行列"
   ]
  },
  {
   "cell_type": "code",
   "execution_count": null,
   "metadata": {},
   "outputs": [],
   "source": [
    "x = np.array([1.0, 2.0, 3.0])\n",
    "x"
   ]
  },
  {
   "cell_type": "code",
   "execution_count": null,
   "metadata": {},
   "outputs": [],
   "source": [
    "A = np.array([[1, 2], [3, 4]])\n",
    "A"
   ]
  },
  {
   "cell_type": "code",
   "execution_count": null,
   "metadata": {},
   "outputs": [],
   "source": [
    "A.shape"
   ]
  },
  {
   "cell_type": "code",
   "execution_count": null,
   "metadata": {},
   "outputs": [],
   "source": [
    "A.dtype"
   ]
  },
  {
   "cell_type": "code",
   "execution_count": null,
   "metadata": {},
   "outputs": [],
   "source": [
    "a = [[0, 1, 2], [3, 4, 5]]\n",
    "b = [[0, 2, 4], [6, 8, 10]]\n",
    "a+b"
   ]
  },
  {
   "cell_type": "code",
   "execution_count": null,
   "metadata": {},
   "outputs": [],
   "source": [
    "a-b"
   ]
  },
  {
   "cell_type": "code",
   "execution_count": null,
   "metadata": {},
   "outputs": [],
   "source": [
    "arr1 = np.arange(6).reshape((2, 3))\n",
    "arr1"
   ]
  },
  {
   "cell_type": "code",
   "execution_count": null,
   "metadata": {},
   "outputs": [],
   "source": [
    "arr2 = np.arange(0, 12, 2).reshape((2, 3))\n",
    "arr2"
   ]
  },
  {
   "cell_type": "code",
   "execution_count": null,
   "metadata": {},
   "outputs": [],
   "source": [
    "arr1+arr2"
   ]
  },
  {
   "cell_type": "code",
   "execution_count": null,
   "metadata": {},
   "outputs": [],
   "source": [
    "arr1-arr2"
   ]
  },
  {
   "cell_type": "code",
   "execution_count": null,
   "metadata": {},
   "outputs": [],
   "source": [
    "arr1*2"
   ]
  },
  {
   "cell_type": "code",
   "execution_count": null,
   "metadata": {},
   "outputs": [],
   "source": [
    "np.multiply(arr1, arr2)"
   ]
  },
  {
   "cell_type": "code",
   "execution_count": null,
   "metadata": {},
   "outputs": [],
   "source": [
    "arr1*arr2"
   ]
  },
  {
   "cell_type": "code",
   "execution_count": null,
   "metadata": {},
   "outputs": [],
   "source": [
    "np.dot(arr1, arr2)  # とやると・・"
   ]
  },
  {
   "cell_type": "code",
   "execution_count": null,
   "metadata": {},
   "outputs": [],
   "source": [
    "arr1 = np.arange(4).reshape((2, 2))\n",
    "arr1"
   ]
  },
  {
   "cell_type": "code",
   "execution_count": null,
   "metadata": {},
   "outputs": [],
   "source": [
    "np.dot(arr1, arr2)"
   ]
  },
  {
   "cell_type": "code",
   "execution_count": null,
   "metadata": {},
   "outputs": [],
   "source": [
    "np.matmul(arr1, arr2)"
   ]
  },
  {
   "cell_type": "code",
   "execution_count": null,
   "metadata": {},
   "outputs": [],
   "source": [
    "# np.matrix だと＊演算でも内積になる\n",
    "mat1 = np.matrix(arr1)\n",
    "mat2 = np.matrix(arr2)\n",
    "mat1"
   ]
  },
  {
   "cell_type": "code",
   "execution_count": null,
   "metadata": {},
   "outputs": [],
   "source": [
    "mat2"
   ]
  },
  {
   "cell_type": "code",
   "execution_count": null,
   "metadata": {},
   "outputs": [],
   "source": [
    "np.dot(mat1, mat2)"
   ]
  },
  {
   "cell_type": "code",
   "execution_count": null,
   "metadata": {},
   "outputs": [],
   "source": [
    "mat1 * mat2 # matrix ならこうやっても計算できる"
   ]
  },
  {
   "cell_type": "code",
   "execution_count": null,
   "metadata": {},
   "outputs": [],
   "source": [
    "arr2"
   ]
  },
  {
   "cell_type": "code",
   "execution_count": null,
   "metadata": {},
   "outputs": [],
   "source": [
    "arr2.T"
   ]
  },
  {
   "cell_type": "code",
   "execution_count": null,
   "metadata": {},
   "outputs": [],
   "source": [
    "# 逆行列\n",
    "\n",
    "a = [[0, 1], [4, 5]]\n",
    "mat_a = np.matrix(a)\n",
    "inva = np.linalg.inv(mat_a)\n",
    "print(mat_a)\n",
    "print(inva)"
   ]
  },
  {
   "cell_type": "code",
   "execution_count": null,
   "metadata": {},
   "outputs": [],
   "source": [
    "# 本当に逆行列になっているか確認する\n",
    "c = mat_a * inva\n",
    "print(c)"
   ]
  },
  {
   "cell_type": "code",
   "execution_count": null,
   "metadata": {},
   "outputs": [],
   "source": [
    "# 注意が必要な場合\n",
    "b = [[3.1415,9.2653], [5.8979,3.2384]]\n",
    "mat_b = np.matrix(b)\n",
    "invb = np.linalg.inv(mat_b)\n",
    "print(mat_b)\n",
    "print(invb)"
   ]
  },
  {
   "cell_type": "code",
   "execution_count": null,
   "metadata": {},
   "outputs": [],
   "source": [
    "# 本当に逆行列になっているか確認する\n",
    "c = mat_b * invb\n",
    "print(c)"
   ]
  },
  {
   "cell_type": "code",
   "execution_count": null,
   "metadata": {},
   "outputs": [],
   "source": [
    "# 計算誤差の影響"
   ]
  },
  {
   "cell_type": "markdown",
   "metadata": {},
   "source": [
    "## 微分"
   ]
  },
  {
   "cell_type": "code",
   "execution_count": null,
   "metadata": {},
   "outputs": [],
   "source": [
    "from scipy.misc import derivative\n",
    "f = lambda x: x**3\n",
    "df_1 = derivative(f, 1, dx=1e-5)\n",
    "df_1"
   ]
  },
  {
   "cell_type": "code",
   "execution_count": null,
   "metadata": {},
   "outputs": [],
   "source": [
    "import sympy\n",
    "sympy.var('a b c x')\n",
    "\n",
    "f = a*x**2 + b*x + c\n",
    "dfdx1 = sympy.diff(f, x)\n",
    "dfdx1"
   ]
  },
  {
   "cell_type": "code",
   "execution_count": null,
   "metadata": {},
   "outputs": [],
   "source": [
    "dfdx2 = sympy.diff(f, x, 2)\n",
    "dfdx2"
   ]
  },
  {
   "cell_type": "code",
   "execution_count": null,
   "metadata": {},
   "outputs": [],
   "source": [
    "sympy.var('a, b, x, y')\n",
    "f = a*x**2*y + b*x*y**3\n",
    "dfdx = sympy.diff(f, x)\n",
    "dfdx"
   ]
  },
  {
   "cell_type": "code",
   "execution_count": null,
   "metadata": {},
   "outputs": [],
   "source": [
    "dfdy = sympy.diff(f, y)\n",
    "dfdy"
   ]
  },
  {
   "cell_type": "markdown",
   "metadata": {},
   "source": [
    "## 確率と統計"
   ]
  },
  {
   "cell_type": "code",
   "execution_count": null,
   "metadata": {},
   "outputs": [],
   "source": [
    "from statistics import mean, median, variance, stdev\n",
    "x = [10, 20, 30, 40, 50, 60, 70, 80, 90]\n",
    "m = mean(x)\n",
    "m"
   ]
  },
  {
   "cell_type": "code",
   "execution_count": null,
   "metadata": {},
   "outputs": [],
   "source": [
    "med = median(x)\n",
    "med"
   ]
  },
  {
   "cell_type": "code",
   "execution_count": null,
   "metadata": {},
   "outputs": [],
   "source": [
    "var = variance(x)\n",
    "var"
   ]
  },
  {
   "cell_type": "code",
   "execution_count": null,
   "metadata": {},
   "outputs": [],
   "source": [
    "std = stdev(x)\n",
    "std"
   ]
  },
  {
   "cell_type": "code",
   "execution_count": null,
   "metadata": {},
   "outputs": [],
   "source": [
    "from scipy.stats import norm\n",
    "import matplotlib.pyplot as plt\n",
    "\n",
    "plt.grid(color='gray')\n",
    "loc=10\n",
    "scale=10\n",
    "start=loc-scale*5\n",
    "end=loc+scale*5\n",
    "X = np.arange(start, end, 0.1)\n",
    "Y = norm.pdf(X, loc=loc, scale=scale)\n",
    "plt.plot(X,Y, color='blue')\n",
    "plt.show()\n"
   ]
  },
  {
   "cell_type": "code",
   "execution_count": null,
   "metadata": {},
   "outputs": [],
   "source": [
    "x = np.random.rand(100)\n",
    "plt.hist(x, bins=40)\n",
    "plt.show()"
   ]
  },
  {
   "cell_type": "code",
   "execution_count": null,
   "metadata": {},
   "outputs": [],
   "source": [
    "# λ=10のポアソン分布、データ数100個\n",
    "x = np.random.poisson(10, 100)\n",
    "plt.hist(x, bins=20)\n",
    "plt.show()"
   ]
  },
  {
   "cell_type": "code",
   "execution_count": null,
   "metadata": {},
   "outputs": [],
   "source": [
    "x = np.random.binomial(3, 0.5, 100) # n=3, p=0.5の二項分布、データ数100個\n",
    "plt.hist(x, bins=10) # 描く棒の数10個\n",
    "plt.show()\n",
    " \n",
    "x = np.random.binomial(10, 0.5, 300) # n=10, p=0.5の二項分布、データ数300個\n",
    "plt.hist(x, bins=20)\n",
    "plt.show()\n",
    " \n",
    "x = np.random.binomial(100, 0.5, 3000) # n=100, p=0.5の二項分布、データ数3000個\n",
    "plt.hist(x, bins=200)\n",
    "plt.show()"
   ]
  },
  {
   "cell_type": "code",
   "execution_count": null,
   "metadata": {},
   "outputs": [],
   "source": [
    "from scipy.stats import t, chi2\n",
    "import pandas as pd\n",
    "\n",
    "# 平均と分散\n",
    "mu, sigma = 0, 1\n",
    " \n",
    "# データを乱数で生成\n",
    "s = np.random.normal(mu, sigma, 500)\n",
    " \n",
    "# estimated value\n",
    "e_mu = np.mean(s)\n",
    "S2 = np.var(s, ddof=1)\n",
    "e_sigma = np.sqrt(S2)\n",
    " \n",
    "# plot histgram\n",
    "count, bins, ignored = plt.hist(s, 30, density=True)\n",
    " \n",
    "# true curve\n",
    "truth = 1/(sigma * np.sqrt(2 * np.pi)) *np.exp( - (bins - mu)**2 / (2 * sigma**2))\n",
    " \n",
    "# fitted cureve\n",
    "estimated = 1/(e_sigma * np.sqrt(2 * np.pi)) *np.exp( - (bins - e_mu)**2 / (2 * e_sigma**2) )\n",
    " \n",
    "# plot result\n",
    "plt.plot(bins, truth, linewidth=2, label =\"true curve\" ,color='r')\n",
    "plt.plot(bins, estimated, linewidth=2, label =\"estimated curve\", color='b')\n",
    "plt.tight_layout()\n",
    "plt.legend()\n",
    "plt.savefig(\"test.png\")\n",
    "plt.show()\n",
    " \n",
    "# estimate 95% confidence interval of mu\n",
    "# use t distribution\n",
    "alpha = 0.025\n",
    "n = len(s)\n",
    "StdError = e_sigma / n\n",
    "t_q = t.isf(q=alpha, df=n-1)\n",
    " \n",
    "mu_CI = (e_mu - t_q*StdError, e_mu + t_q*StdError)\n",
    "# estimate 95% Confidence interval of mu\n",
    "# use chi2 distribution\n",
    "chi2_q_lower = chi2.isf(q=alpha, df=n-1, loc=0, scale=1)\n",
    "chi2_q_upper = chi2.isf(q=1-alpha, df=n-1, loc=0, scale=1)\n",
    " \n",
    "sigma_CI = ((n-1)*S2/chi2_q_lower, (n-1)*S2/chi2_q_upper)\n",
    " \n",
    "# print result\n",
    "mat = np.vstack(((e_mu,e_sigma),\n",
    "                 (mu_CI[0],sigma_CI[0]),\n",
    "                 (mu_CI[1],sigma_CI[1])))\n",
    "df = pd.DataFrame(mat.T, index=[\"mu\", \"sigma\"],\n",
    "                  columns=(\"Estimate\", \"lwCI\",\"upCI\"))\n",
    "print(df)"
   ]
  },
  {
   "cell_type": "markdown",
   "metadata": {},
   "source": [
    "## 練習問題"
   ]
  },
  {
   "cell_type": "markdown",
   "metadata": {},
   "source": [
    "### 10x4の乱数行列xを作り、各列ごとに値を平均0、標準偏差1になるように正規化した行列zを作ってください。乱数配列はnp.random.rand(d0, d1, …, dn)で作ることができます。"
   ]
  },
  {
   "cell_type": "code",
   "execution_count": null,
   "metadata": {},
   "outputs": [],
   "source": []
  }
 ],
 "metadata": {
  "kernelspec": {
   "display_name": "Python 3",
   "language": "python",
   "name": "python3"
  },
  "language_info": {
   "codemirror_mode": {
    "name": "ipython",
    "version": 3
   },
   "file_extension": ".py",
   "mimetype": "text/x-python",
   "name": "python",
   "nbconvert_exporter": "python",
   "pygments_lexer": "ipython3",
   "version": "3.6.5"
  }
 },
 "nbformat": 4,
 "nbformat_minor": 2
}
