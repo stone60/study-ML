{
 "cells": [
  {
   "cell_type": "code",
   "execution_count": null,
   "metadata": {},
   "outputs": [],
   "source": [
    "%matplotlib inline\n",
    "from IPython.display import Image\n",
    "import matplotlib.pyplot as plt\n",
    "import numpy as np"
   ]
  },
  {
   "cell_type": "markdown",
   "metadata": {},
   "source": [
    "## データ型"
   ]
  },
  {
   "cell_type": "code",
   "execution_count": null,
   "metadata": {},
   "outputs": [],
   "source": [
    "num = 100\n",
    "num"
   ]
  },
  {
   "cell_type": "code",
   "execution_count": null,
   "metadata": {},
   "outputs": [],
   "source": [
    "num = 3.14\n",
    "num"
   ]
  },
  {
   "cell_type": "code",
   "execution_count": null,
   "metadata": {},
   "outputs": [],
   "source": [
    "num ='数字'\n",
    "num"
   ]
  },
  {
   "cell_type": "code",
   "execution_count": null,
   "metadata": {},
   "outputs": [],
   "source": [
    "x = 10\n",
    "\n",
    "#割り算\n",
    "x/3"
   ]
  },
  {
   "cell_type": "code",
   "execution_count": null,
   "metadata": {},
   "outputs": [],
   "source": [
    "# 余り\n",
    "x % 3"
   ]
  },
  {
   "cell_type": "code",
   "execution_count": null,
   "metadata": {},
   "outputs": [],
   "source": [
    "#べき乗\n",
    "3 ** 2"
   ]
  },
  {
   "cell_type": "code",
   "execution_count": null,
   "metadata": {},
   "outputs": [],
   "source": [
    "y = 5\n",
    "y = y+12\n",
    "y"
   ]
  },
  {
   "cell_type": "code",
   "execution_count": null,
   "metadata": {},
   "outputs": [],
   "source": [
    "y = 5\n",
    "y += 12\n",
    "y"
   ]
  },
  {
   "cell_type": "markdown",
   "metadata": {},
   "source": [
    "## 文字連結"
   ]
  },
  {
   "cell_type": "code",
   "execution_count": null,
   "metadata": {},
   "outputs": [],
   "source": [
    "print (\"hello\"+\"world\")\n",
    "print (\"hello\" * 3)"
   ]
  },
  {
   "cell_type": "markdown",
   "metadata": {},
   "source": [
    "## インデント"
   ]
  },
  {
   "cell_type": "code",
   "execution_count": null,
   "metadata": {},
   "outputs": [],
   "source": [
    "a = 3\n",
    "if a == 5:\n",
    "\tprint (\"AAA\")    # if文の対象\n",
    "\tprint (\"BBB\")    # if文の対象\n",
    "print (\"CCC\")    "
   ]
  },
  {
   "cell_type": "markdown",
   "metadata": {},
   "source": [
    "## コメント"
   ]
  },
  {
   "cell_type": "code",
   "execution_count": null,
   "metadata": {},
   "outputs": [],
   "source": [
    "# コメントになる\n",
    "a = 1  # ここからコメント\n",
    "\n",
    "'''\n",
    "　これもコメント\n",
    "'''\n",
    "x = 1"
   ]
  },
  {
   "cell_type": "markdown",
   "metadata": {},
   "source": [
    "## リスト"
   ]
  },
  {
   "cell_type": "code",
   "execution_count": null,
   "metadata": {},
   "outputs": [],
   "source": [
    "d = ['東京都', '神奈川県', '大阪府']\n",
    "d"
   ]
  },
  {
   "cell_type": "code",
   "execution_count": null,
   "metadata": {},
   "outputs": [],
   "source": [
    "d[1]"
   ]
  },
  {
   "cell_type": "code",
   "execution_count": null,
   "metadata": {},
   "outputs": [],
   "source": [
    "d[1] = '北海道'\n",
    "d"
   ]
  },
  {
   "cell_type": "markdown",
   "metadata": {},
   "source": [
    "## タプル"
   ]
  },
  {
   "cell_type": "code",
   "execution_count": null,
   "metadata": {},
   "outputs": [],
   "source": [
    "t = ('東京都', '神奈川県', '大阪府')\n",
    "t[1]"
   ]
  },
  {
   "cell_type": "code",
   "execution_count": null,
   "metadata": {},
   "outputs": [],
   "source": [
    "t[1] = '北海道'"
   ]
  },
  {
   "cell_type": "markdown",
   "metadata": {},
   "source": [
    "## 辞書"
   ]
  },
  {
   "cell_type": "code",
   "execution_count": null,
   "metadata": {},
   "outputs": [],
   "source": [
    "a ={'Tokyo': 50,'Osaka': 45,'Hakata': 30}\n",
    "\n",
    "a1 = a['Tokyo']\n",
    "a2 = a['Osaka']\n",
    "a3 = a['Hakata']\n",
    "print(a1)\n",
    "print(a2)\n",
    "print(a3)"
   ]
  },
  {
   "cell_type": "markdown",
   "metadata": {},
   "source": [
    "## 配列"
   ]
  },
  {
   "cell_type": "code",
   "execution_count": null,
   "metadata": {},
   "outputs": [],
   "source": [
    "a1 = np.array([1, 2, 3])\n",
    "a1"
   ]
  },
  {
   "cell_type": "code",
   "execution_count": null,
   "metadata": {},
   "outputs": [],
   "source": [
    "# shape 配列の形状を表示\n",
    "a1.shape"
   ]
  },
  {
   "cell_type": "code",
   "execution_count": null,
   "metadata": {},
   "outputs": [],
   "source": [
    "a2 = np.array([[1,2,3], [2,3,4]])\n",
    "a2"
   ]
  },
  {
   "cell_type": "code",
   "execution_count": null,
   "metadata": {},
   "outputs": [],
   "source": [
    "a2.shape"
   ]
  },
  {
   "cell_type": "code",
   "execution_count": null,
   "metadata": {},
   "outputs": [],
   "source": [
    "a3 = np.array([[1], [2], [3]])\n",
    "a3"
   ]
  },
  {
   "cell_type": "code",
   "execution_count": null,
   "metadata": {},
   "outputs": [],
   "source": [
    "a3.shape"
   ]
  },
  {
   "cell_type": "code",
   "execution_count": null,
   "metadata": {},
   "outputs": [],
   "source": [
    "# 3×2×43×2×4の直方体上に並んだ3次元配列\n",
    "a4 = np.arange(3 * 2 * 4).reshape(3, 2, 4)\n",
    "a4"
   ]
  },
  {
   "cell_type": "code",
   "execution_count": null,
   "metadata": {},
   "outputs": [],
   "source": [
    "x = np.arange(10)\n",
    "x"
   ]
  },
  {
   "cell_type": "code",
   "execution_count": null,
   "metadata": {},
   "outputs": [],
   "source": [
    "# 配列の要素\n",
    "x[2]"
   ]
  },
  {
   "cell_type": "code",
   "execution_count": null,
   "metadata": {},
   "outputs": [],
   "source": [
    "x2 = np.array([[1,7,3], [2,8,9]])\n",
    "x2"
   ]
  },
  {
   "cell_type": "code",
   "execution_count": null,
   "metadata": {},
   "outputs": [],
   "source": [
    "x2[0, 1]"
   ]
  },
  {
   "cell_type": "markdown",
   "metadata": {},
   "source": [
    "### 配列のスライスによる指定"
   ]
  },
  {
   "cell_type": "code",
   "execution_count": null,
   "metadata": {},
   "outputs": [],
   "source": [
    "x = np.arange(10)\n",
    "x"
   ]
  },
  {
   "cell_type": "code",
   "execution_count": null,
   "metadata": {},
   "outputs": [],
   "source": [
    "x[2:4]"
   ]
  },
  {
   "cell_type": "code",
   "execution_count": null,
   "metadata": {},
   "outputs": [],
   "source": [
    "x[:4]"
   ]
  },
  {
   "cell_type": "code",
   "execution_count": null,
   "metadata": {},
   "outputs": [],
   "source": [
    "x[4:]"
   ]
  },
  {
   "cell_type": "code",
   "execution_count": null,
   "metadata": {},
   "outputs": [],
   "source": [
    "y = np.arange(12).reshape(3, 4)\n",
    "y"
   ]
  },
  {
   "cell_type": "code",
   "execution_count": null,
   "metadata": {},
   "outputs": [],
   "source": [
    "y[:, 0]"
   ]
  },
  {
   "cell_type": "code",
   "execution_count": null,
   "metadata": {},
   "outputs": [],
   "source": [
    "y[1, :]"
   ]
  },
  {
   "cell_type": "code",
   "execution_count": null,
   "metadata": {},
   "outputs": [],
   "source": [
    "y[:, [1,2]]"
   ]
  },
  {
   "cell_type": "code",
   "execution_count": null,
   "metadata": {},
   "outputs": [],
   "source": [
    "# リストと配列の違い\n",
    "list1 = [[0, 1, 0], [0, 1, 0]]\n",
    "list1.shape"
   ]
  },
  {
   "cell_type": "code",
   "execution_count": null,
   "metadata": {},
   "outputs": [],
   "source": [
    "ar1 = np.array([[0, 1, 0], [0, 1, 0]])\n",
    "ar1.shape"
   ]
  },
  {
   "cell_type": "code",
   "execution_count": null,
   "metadata": {},
   "outputs": [],
   "source": [
    "list1 = [[0, 0, 0], [0, 0, 0]]\n",
    "list1[0][1] = 1\n",
    "list1"
   ]
  },
  {
   "cell_type": "code",
   "execution_count": null,
   "metadata": {},
   "outputs": [],
   "source": [
    "# 内包表現で２次元配列を作成\n",
    "list2 = [[0 for i in range(3)] for j in range(2)]\n",
    "list2"
   ]
  },
  {
   "cell_type": "code",
   "execution_count": null,
   "metadata": {},
   "outputs": [],
   "source": [
    "list2[0][1] = 1\n",
    "list2"
   ]
  },
  {
   "cell_type": "code",
   "execution_count": null,
   "metadata": {},
   "outputs": [],
   "source": [
    "# これでも作れるが・・ [0]*3 というように作成すると要素指定して変更すると結果が異なる\n",
    "list3 = [[0]*3]*2\n",
    "list3"
   ]
  },
  {
   "cell_type": "code",
   "execution_count": null,
   "metadata": {},
   "outputs": [],
   "source": [
    "list3[0][1] = 1\n",
    "list3"
   ]
  },
  {
   "cell_type": "markdown",
   "metadata": {},
   "source": [
    "## form"
   ]
  },
  {
   "cell_type": "code",
   "execution_count": null,
   "metadata": {},
   "outputs": [],
   "source": [
    "a = 10\n",
    "b = 2\n",
    "c = a + b\n",
    "print('答え:{0}'.format(c))"
   ]
  },
  {
   "cell_type": "code",
   "execution_count": null,
   "metadata": {},
   "outputs": [],
   "source": [
    "banana = 50\n",
    "tomato = 100\n",
    "total = banana + tomato\n",
    "print('合計：{}円'.format(total))"
   ]
  },
  {
   "cell_type": "code",
   "execution_count": null,
   "metadata": {},
   "outputs": [],
   "source": [
    "banana = 50\n",
    "tomato = 100\n",
    "total = banana + tomato\n",
    "print('バナナ：{0}円 トマト：{1}円 合計：{2}円'.format(banana, tomato, total))"
   ]
  },
  {
   "cell_type": "code",
   "execution_count": null,
   "metadata": {},
   "outputs": [],
   "source": [
    "name = \"Endo\"\n",
    "score = 52.6\n",
    "\n",
    "# %で文字列埋め込み(整数は%d)\n",
    "print(\"name: %s,score:%f\" %(name,score))\n",
    "\n",
    "# 桁数表示幅を指定する。\n",
    "# %10s =10の幅を持たせる。%10.2f=10の幅を持たせて小数点2桁にする。\n",
    "print(\"name: %10s,score:%10.2f\" %(name,score))\n",
    "\n",
    "# 左揃えにする。\n",
    "print(\"name: %-10s,score:%-10.2f\" %(name,score))"
   ]
  },
  {
   "cell_type": "markdown",
   "metadata": {},
   "source": [
    "## if文"
   ]
  },
  {
   "cell_type": "code",
   "execution_count": null,
   "metadata": {},
   "outputs": [],
   "source": [
    "x = 1\n",
    "if x == 0:\n",
    "    print('x = 0')\n",
    "else:\n",
    "    print('x != 0') "
   ]
  },
  {
   "cell_type": "code",
   "execution_count": null,
   "metadata": {},
   "outputs": [],
   "source": [
    "x = 1\n",
    "if x == 0:\n",
    "    print('x = 0')\n",
    "elif x == 1:\n",
    "    print('x = 1') \n",
    "else:\n",
    "    print('x != 0 ans x != 0')"
   ]
  },
  {
   "cell_type": "markdown",
   "metadata": {},
   "source": [
    "## for文"
   ]
  },
  {
   "cell_type": "code",
   "execution_count": null,
   "metadata": {},
   "outputs": [],
   "source": [
    "# for 変数名 in イテラブルオブジェクト:\n",
    "#    処理\n",
    "\n",
    "data_list = [5, 3, 7, 4, 10, 9, 6]\n",
    "new_list = []\n",
    "for num in data_list:\n",
    "\tif num % 2 == 0:\n",
    "\t\tnew_num = num * 2\n",
    "\t\tnew_list.append(new_num)\n",
    "print(new_list)"
   ]
  },
  {
   "cell_type": "code",
   "execution_count": null,
   "metadata": {},
   "outputs": [],
   "source": [
    "# 特定の要素をスキップ  continue\n",
    "v = ['リンゴ', 'バナナ', 'ケーキ']\n",
    "\n",
    "for name in v:\n",
    "    if name == 'ケーキ':\n",
    "        print('!!スキップ!!')\n",
    "        continue\n",
    "    print(name)"
   ]
  },
  {
   "cell_type": "code",
   "execution_count": null,
   "metadata": {},
   "outputs": [],
   "source": [
    "# range()\n",
    "for i in range(3):\n",
    "    print(i)"
   ]
  },
  {
   "cell_type": "code",
   "execution_count": null,
   "metadata": {},
   "outputs": [],
   "source": [
    "for i in range(3, 10):\n",
    "    print(i)"
   ]
  },
  {
   "cell_type": "code",
   "execution_count": null,
   "metadata": {},
   "outputs": [],
   "source": [
    "for i in range(3, 10, 2):\n",
    "    print(i)"
   ]
  },
  {
   "cell_type": "code",
   "execution_count": null,
   "metadata": {},
   "outputs": [],
   "source": [
    "# リストの内包表現\n",
    "squares = [i**2 for i in range(5)]\n",
    "print(squares)"
   ]
  },
  {
   "cell_type": "code",
   "execution_count": null,
   "metadata": {},
   "outputs": [],
   "source": [
    "new_list = [num * 2 for num in data_list if num % 2 == 0]\n",
    "print(new_list)"
   ]
  },
  {
   "cell_type": "code",
   "execution_count": null,
   "metadata": {},
   "outputs": [],
   "source": [
    "datas = ['a', 'b', 'c']\n",
    "for v in datas:\n",
    "    print(v) # listの各値が表示される"
   ]
  },
  {
   "cell_type": "code",
   "execution_count": null,
   "metadata": {},
   "outputs": [],
   "source": [
    "dic = {'key1': 110, 'key2': 270, 'key3': 350}\n",
    "for key in dic:\n",
    "    print(key, dic[key])"
   ]
  },
  {
   "cell_type": "code",
   "execution_count": null,
   "metadata": {},
   "outputs": [],
   "source": [
    "dic = {'key1': 110, 'key2': 270, 'key3': 350}\n",
    "for value in dic.values():\n",
    "    print(value) # 値が出力される"
   ]
  },
  {
   "cell_type": "code",
   "execution_count": null,
   "metadata": {},
   "outputs": [],
   "source": [
    "# enumerate はリストの要素とインデクスを出力する\n",
    "v = ['リンゴ', 'バナナ', 'ケーキ']\n",
    "for i, name in enumerate(v):\n",
    "    print(i, name)"
   ]
  },
  {
   "cell_type": "code",
   "execution_count": null,
   "metadata": {},
   "outputs": [],
   "source": [
    "# zip 複数の変数　まとめて出力\n",
    "v = ['リンゴ', 'バナナ', 'ケーキ']\n",
    "num = [24, 50, 18]\n",
    "for name, n in zip(v, num):\n",
    "    print(name, n)"
   ]
  },
  {
   "cell_type": "markdown",
   "metadata": {},
   "source": [
    "## append()"
   ]
  },
  {
   "cell_type": "code",
   "execution_count": null,
   "metadata": {},
   "outputs": [],
   "source": [
    "mylist = [\"Blue\", \"Red\", \"Green\"]\n",
    "print(mylist)"
   ]
  },
  {
   "cell_type": "code",
   "execution_count": null,
   "metadata": {},
   "outputs": [],
   "source": [
    "mylist.append(\"White\")\n",
    "print(mylist)"
   ]
  },
  {
   "cell_type": "code",
   "execution_count": null,
   "metadata": {},
   "outputs": [],
   "source": [
    "a = []\n",
    "for i in range(10):\n",
    "    a.append(i**2)\n",
    "print(a)"
   ]
  },
  {
   "cell_type": "markdown",
   "metadata": {},
   "source": [
    "## split()"
   ]
  },
  {
   "cell_type": "code",
   "execution_count": null,
   "metadata": {},
   "outputs": [],
   "source": [
    "test = \"orange apple banana strawberry\"\n",
    "test.split(\",\") # test というリストを 区切り文字” , ” で区切る"
   ]
  },
  {
   "cell_type": "code",
   "execution_count": null,
   "metadata": {},
   "outputs": [],
   "source": [
    "test = \"orange apple banana strawberry\"\n",
    "test.split() #引数に何も指定しない場合、スペースやタブ等で自動的に区切る"
   ]
  },
  {
   "cell_type": "markdown",
   "metadata": {},
   "source": [
    "## enumerate()  要素のインデックス番号と要素を同時に取り出すことが出来る"
   ]
  },
  {
   "cell_type": "code",
   "execution_count": null,
   "metadata": {},
   "outputs": [],
   "source": [
    "lists = [\"Apple\",\"Orange\",\"Tomato\",\"Potato\",\"Banana\"]\n",
    "i = 0\n",
    "for list1 in lists:\n",
    "    print(\"Index:[{}] , Food:{}\".format(i,list1))\n",
    "    i += 1"
   ]
  },
  {
   "cell_type": "code",
   "execution_count": null,
   "metadata": {},
   "outputs": [],
   "source": [
    "for index,list1 in enumerate(lists):\n",
    "    print(\"index:[{}] , food:{}\".format(index,list1))"
   ]
  },
  {
   "cell_type": "code",
   "execution_count": null,
   "metadata": {},
   "outputs": [],
   "source": [
    "for index, list1 in enumerate(lists, start=3):\n",
    "    print(\"index:[{}] , food:{}\".format(index,list1))"
   ]
  },
  {
   "cell_type": "markdown",
   "metadata": {},
   "source": [
    "## zip()  複数のリストの要素を同時に取得する"
   ]
  },
  {
   "cell_type": "code",
   "execution_count": null,
   "metadata": {},
   "outputs": [],
   "source": [
    "lists = [\"Apple\",\"Orange\",\"Tomato\",\"Potato\",\"Banana\"]\n",
    "prices =[110, 90, 85, 100, 130]\n",
    "\n",
    "for lst, pr in zip(lists, prices):\n",
    "    print(\"{0}は{1}円です\".format(lst, pr))"
   ]
  },
  {
   "cell_type": "markdown",
   "metadata": {},
   "source": [
    "## random"
   ]
  },
  {
   "cell_type": "code",
   "execution_count": null,
   "metadata": {},
   "outputs": [],
   "source": [
    "import random\n",
    "random.random() # 0.0〜1.0の間の数値（浮動小数点）を返す"
   ]
  },
  {
   "cell_type": "code",
   "execution_count": null,
   "metadata": {},
   "outputs": [],
   "source": [
    "random.uniform(10, 100) #[10.0, 100.0]の実数値をかえす"
   ]
  },
  {
   "cell_type": "code",
   "execution_count": null,
   "metadata": {},
   "outputs": [],
   "source": [
    "random.randint(10, 100) #引数で指定した10〜100の範囲のランダムな整数値を返す"
   ]
  },
  {
   "cell_type": "code",
   "execution_count": null,
   "metadata": {},
   "outputs": [],
   "source": [
    "# random.randrange(start, stop[, step])は、range(start, stop, step)で生成されるイテラブルからランダムに抽出された要素を返す\n",
    "random.randrange(10, 50, 2)"
   ]
  },
  {
   "cell_type": "code",
   "execution_count": null,
   "metadata": {},
   "outputs": [],
   "source": [
    "random.randrange(10, 50, 2)"
   ]
  },
  {
   "cell_type": "markdown",
   "metadata": {},
   "source": [
    "## break"
   ]
  },
  {
   "cell_type": "code",
   "execution_count": null,
   "metadata": {},
   "outputs": [],
   "source": [
    "data_list = [1, 2, 3] # 空のリスト\n",
    "for data in data_list:\n",
    "    print(data)\n",
    "    if data > 1:\n",
    "        break\n",
    "else:\n",
    "    print('ループ処理が終わりました')"
   ]
  },
  {
   "cell_type": "markdown",
   "metadata": {},
   "source": [
    "## while文"
   ]
  },
  {
   "cell_type": "code",
   "execution_count": null,
   "metadata": {},
   "outputs": [],
   "source": [
    "is_conti = True # ループ処理を続行するか\n",
    " \n",
    "while is_conti:\n",
    "    print('キーを入力してください')\n",
    "    c = input()\n",
    " \n",
    "    if c == 'end':\n",
    "        is_conti = False\n",
    "    else:\n",
    "        print(c + 'が入力されました')\n",
    "        is_conti = False\n",
    "\n",
    "print('ループ処理が終わりました')"
   ]
  },
  {
   "cell_type": "markdown",
   "metadata": {},
   "source": [
    "## 関数"
   ]
  },
  {
   "cell_type": "code",
   "execution_count": null,
   "metadata": {},
   "outputs": [],
   "source": [
    "def ex_func(x, y):\n",
    "    z = x + y\n",
    "    return z\n",
    " \n",
    "z = ex_func(1, 2)\n",
    "print(z)"
   ]
  },
  {
   "cell_type": "code",
   "execution_count": null,
   "metadata": {},
   "outputs": [],
   "source": [
    "def  ex_func(arg1, arg2):\n",
    "\tprint(arg1, arg2)\n",
    "    \n",
    "ex_func('a', 'b') # 順番に引数を指定する\n",
    "ex_func(arg1='c', arg2='d') # キーワードを指定する"
   ]
  },
  {
   "cell_type": "code",
   "execution_count": null,
   "metadata": {},
   "outputs": [],
   "source": [
    "def pass_test():\n",
    "    # 関数の中身を今書かないであとで記述したい時にpassを入れる。\n",
    "    pass\n",
    "\n",
    "msg = pass_test()\n",
    "# 何も返ってこないので`None`が返ってくる。\n",
    "print (msg)"
   ]
  },
  {
   "cell_type": "code",
   "execution_count": null,
   "metadata": {},
   "outputs": [],
   "source": [
    "msg = \"Global\" #グローバル変数\n",
    "\n",
    "def hoge():\n",
    "    #関数の中で宣言された変数はこの関数の中でのみ有効である。\n",
    "    #スコープ\n",
    "    msg = \"Local\" # ローカル変数\n",
    "    print (msg)\n",
    "hoge()\n",
    "print(msg)"
   ]
  },
  {
   "cell_type": "markdown",
   "metadata": {},
   "source": [
    "## ラムダ(lamda)式　基本文法　→　lambda 引数: 返り値"
   ]
  },
  {
   "cell_type": "code",
   "execution_count": null,
   "metadata": {},
   "outputs": [],
   "source": [
    "def nibai(n):\n",
    "    return n * 2\n",
    "\n",
    "x = nibai(10)\n",
    "print(x)"
   ]
  },
  {
   "cell_type": "code",
   "execution_count": null,
   "metadata": {},
   "outputs": [],
   "source": [
    "lamda_nibai = lambda n: n * 2\n",
    "print(lamda_nibai(10))"
   ]
  },
  {
   "cell_type": "code",
   "execution_count": null,
   "metadata": {},
   "outputs": [],
   "source": [
    "abs = lambda x : x if x >=0 else -x\n",
    "print(abs(-17.5))"
   ]
  },
  {
   "cell_type": "code",
   "execution_count": null,
   "metadata": {},
   "outputs": [],
   "source": [
    "def func(s):\n",
    "    return s+ \"タワー\"\n",
    "\n",
    "sampleList = [\"東京\", \"マリン\", \"べイ\"]\n",
    "newList = []\n",
    "for s in sampleList:\n",
    "    newList.append(func(s))\n",
    "\n",
    "print(newList)"
   ]
  },
  {
   "cell_type": "code",
   "execution_count": null,
   "metadata": {},
   "outputs": [],
   "source": [
    "newList2 = list(map(lambda s: s + \"タワー\", sampleList))\n",
    "print(newList2)"
   ]
  },
  {
   "cell_type": "code",
   "execution_count": null,
   "metadata": {},
   "outputs": [],
   "source": [
    "val = ['Mike', 'Bob', 'Cris'] # デフォルトではアルファベット順\n",
    "s = sorted(val)\n",
    "s"
   ]
  },
  {
   "cell_type": "code",
   "execution_count": null,
   "metadata": {},
   "outputs": [],
   "source": [
    "s = sorted(val, key=lambda x: x[1]) # 2文字目のアルファベット順\n",
    "s"
   ]
  },
  {
   "cell_type": "code",
   "execution_count": null,
   "metadata": {},
   "outputs": [],
   "source": [
    "num_list = [0,1,2,3,4,5,6,7,8,9]\n",
    "def jijo(x):\n",
    "    xx = x**2\n",
    "    return xx\n",
    "ans1 = list(map(jijo,num_list))\n",
    "ans1"
   ]
  },
  {
   "cell_type": "code",
   "execution_count": null,
   "metadata": {},
   "outputs": [],
   "source": [
    "ans2 = list(map(lambda x:x**2,range(10)))\n",
    "ans2"
   ]
  },
  {
   "cell_type": "markdown",
   "metadata": {},
   "source": [
    "## クラス"
   ]
  },
  {
   "cell_type": "code",
   "execution_count": null,
   "metadata": {},
   "outputs": [],
   "source": [
    "class Xteam:   # クラス名\n",
    "\n",
    "    def __init__(self):      # コンストラクタ\n",
    "        self.name = \"\"\n",
    "\n",
    "    def getName(self):  # メソッド名\n",
    "        return self.name\n",
    "\n",
    "    def setName(self, name):   # メソッド名   \n",
    "        self.name = name\n",
    "\n",
    "a = Xteam() \n",
    "a.setName('Suzuki')                      \n",
    "print (a.getName() )   "
   ]
  },
  {
   "cell_type": "markdown",
   "metadata": {},
   "source": [
    "## コンストラクタ"
   ]
  },
  {
   "cell_type": "code",
   "execution_count": null,
   "metadata": {},
   "outputs": [],
   "source": [
    "class User:\n",
    "    #コンストラクタ(初期値)a\n",
    "\n",
    "    #selfはこのクラスから作られるインスタンスを指します。\n",
    "    def __init__(self,name):\n",
    "        # インスタンス変数\n",
    "        self.name = name\n",
    "\n",
    "sato = User(\"佐藤\")\n",
    "ike = User(\"池田\")\n",
    "\n",
    "print(sato.name)\n",
    "print(ike.name)"
   ]
  },
  {
   "cell_type": "markdown",
   "metadata": {},
   "source": [
    "## クラス変数　"
   ]
  },
  {
   "cell_type": "code",
   "execution_count": null,
   "metadata": {},
   "outputs": [],
   "source": [
    "class User:\n",
    "    count = 0\n",
    "    #コンストラクタ(初期値)\n",
    "    def __init__(self,name):\n",
    "        # クラス変数\n",
    "        User.count += 1;\n",
    "        # インスタンス変数\n",
    "        self.name = name\n",
    "\n",
    "print(User.count)\n",
    "\n",
    "sato = User(\"佐藤\")\n",
    "ike = User(\"池田\")\n",
    "print(User.count)\n",
    "\n",
    "# クラスのプロパティであるから、satoのインスタからでも呼び出す事が出来る。\n",
    "print(\"sato is count {0}\".format(sato.count))"
   ]
  },
  {
   "cell_type": "markdown",
   "metadata": {},
   "source": [
    "## クラスメソッド　クラス変数(cls)"
   ]
  },
  {
   "cell_type": "code",
   "execution_count": null,
   "metadata": {},
   "outputs": [],
   "source": [
    "class User:\n",
    "    count = 0\n",
    "    #コンストラクタ\n",
    "    def __init__(self,name):\n",
    "        User.count += 1;\n",
    "        self.name = name\n",
    "    #クラスメソッド\n",
    "    @classmethod#(デコレーター)\n",
    "    def show_info(cls):\n",
    "        print(\"{0}:instances\".format(cls.count))\n",
    "\n",
    "# クラスメソッド\n",
    "User.show_info()\n",
    "sato = User(\"佐藤\")\n",
    "User.show_info()"
   ]
  },
  {
   "cell_type": "markdown",
   "metadata": {},
   "source": [
    "## ファイル操作"
   ]
  },
  {
   "cell_type": "code",
   "execution_count": null,
   "metadata": {},
   "outputs": [],
   "source": [
    "f = open('todo.txt', encoding='utf-8')\n",
    "str = f.read()\n",
    "print(str)\n",
    "f.close()"
   ]
  },
  {
   "cell_type": "code",
   "execution_count": null,
   "metadata": {},
   "outputs": [],
   "source": [
    "with open('todo.txt', encoding='utf-8') as f:\n",
    "    str = f.read()\n",
    "print(str)"
   ]
  },
  {
   "cell_type": "code",
   "execution_count": null,
   "metadata": {},
   "outputs": [],
   "source": [
    "f = open('memo.txt', 'w', encoding='utf-8')\n",
    "f"
   ]
  },
  {
   "cell_type": "code",
   "execution_count": null,
   "metadata": {},
   "outputs": [],
   "source": [
    "f.write('今日は')"
   ]
  },
  {
   "cell_type": "code",
   "execution_count": null,
   "metadata": {},
   "outputs": [],
   "source": [
    "f.write('疲れたので早く寝る\\n')\n",
    "f.close()"
   ]
  },
  {
   "cell_type": "code",
   "execution_count": null,
   "metadata": {},
   "outputs": [],
   "source": [
    "f = open('memo.txt', encoding='utf-8')\n",
    "str = f.read()\n",
    "print(str)"
   ]
  },
  {
   "cell_type": "markdown",
   "metadata": {},
   "source": [
    "## 正規表現"
   ]
  },
  {
   "cell_type": "code",
   "execution_count": null,
   "metadata": {},
   "outputs": [],
   "source": [
    "import re\n",
    "rx = r'ab+' # + は１回以上の繰り返し　rをつけるとraw文字列として扱われる（バックスラッシュが特別な意味を持つ場合があるため）\n",
    "text = \"abbabbabaaabb\"\n",
    "ans = re.match(rx, text)\n",
    "ans"
   ]
  },
  {
   "cell_type": "code",
   "execution_count": null,
   "metadata": {},
   "outputs": [],
   "source": [
    "address = \"123-7777 東京都千代田区\"\n",
    "postCode = re.match('[0-9]{3}-[0-9]{4}' , address) # { }はケタ数\n",
    "print (postCode)"
   ]
  },
  {
   "cell_type": "markdown",
   "metadata": {},
   "source": [
    "## グラフ"
   ]
  },
  {
   "cell_type": "code",
   "execution_count": null,
   "metadata": {},
   "outputs": [],
   "source": [
    "import matplotlib.pyplot as plt\n",
    "x = np.arange(0, 6, 0.1)  # 0から6まで0.1刻みで\n",
    "y = np.sin(x)\n",
    "\n",
    "plt.plot(x, y)\n",
    "plt.show()"
   ]
  },
  {
   "cell_type": "code",
   "execution_count": null,
   "metadata": {},
   "outputs": [],
   "source": [
    "def sigmoid(x):\n",
    "    return 1 / (1 + np.exp(-x))    \n",
    "\n",
    "X = np.arange(-5.0, 5.0, 0.1)\n",
    "Y = sigmoid(X)\n",
    "plt.plot(X, Y)\n",
    "plt.ylim(-0.1, 1.1)\n",
    "plt.show()"
   ]
  },
  {
   "cell_type": "code",
   "execution_count": null,
   "metadata": {},
   "outputs": [],
   "source": [
    "def step_function(x):\n",
    "    return np.array(x > 0, dtype=np.int)\n",
    "\n",
    "X = np.arange(-5.0, 5.0, 0.1)\n",
    "Y = step_function(X)\n",
    "plt.plot(X, Y)\n",
    "plt.ylim(-0.1, 1.1)  # 図で描画するy軸の範囲を指定\n",
    "plt.show()"
   ]
  },
  {
   "cell_type": "markdown",
   "metadata": {},
   "source": [
    "### 補助線、凡例など"
   ]
  },
  {
   "cell_type": "code",
   "execution_count": null,
   "metadata": {},
   "outputs": [],
   "source": [
    "import math\n",
    "pi = math.pi\n",
    "\n",
    "x = np.linspace(0, 2*pi, 100)\n",
    "sin_y = np.sin(x)\n",
    "cos_y = np.cos(x)  #新たにcosを計算\n",
    "\n",
    "plt.plot(x, sin_y, label='sin')\n",
    "plt.plot(x, cos_y, label='cos')  #cosの値をプロット\n",
    "\n",
    "#グラフタイトル\n",
    "plt.title('Sin And Cos Graph')\n",
    "\n",
    "#グラフの軸\n",
    "plt.xlabel('X-Axis')\n",
    "plt.ylabel('Y-Axis')\n",
    "\n",
    "#グラフの凡例\n",
    "plt.legend()\n",
    "\n",
    "plt.show()"
   ]
  },
  {
   "cell_type": "code",
   "execution_count": null,
   "metadata": {},
   "outputs": [],
   "source": [
    "# 縦に並べる\n",
    "x = np.arange(0, 6, 0.1)\n",
    "y1 = np.sin(x)\n",
    "y2 = np.cos(x)\n",
    " \n",
    "plt.subplot(2,1,1)\n",
    "plt.plot(x,y1)\n",
    " \n",
    "plt.subplot(2,1,2)\n",
    "plt.plot(x,y2)\n",
    " \n",
    "plt.show()"
   ]
  },
  {
   "cell_type": "code",
   "execution_count": null,
   "metadata": {},
   "outputs": [],
   "source": [
    "# 横にならべる\n",
    "plt.subplot(1,2,1)\n",
    "plt.plot(x,y1)\n",
    " \n",
    "plt.subplot(1,2,2)\n",
    "plt.plot(x,y2)"
   ]
  },
  {
   "cell_type": "code",
   "execution_count": null,
   "metadata": {},
   "outputs": [],
   "source": [
    "# 2x2 に並べる\n",
    "plt.subplot(2,2,1)\n",
    "plt.plot(x,y1)\n",
    " \n",
    "plt.subplot(2,2,2)\n",
    "plt.plot(x,y2)\n",
    " \n",
    "plt.subplot(2,2,3)\n",
    "plt.plot(x,y1)\n",
    " \n",
    "plt.subplot(2,2,4)\n",
    "plt.plot(x,y2)"
   ]
  },
  {
   "cell_type": "code",
   "execution_count": null,
   "metadata": {},
   "outputs": [],
   "source": [
    "# 折れ線\n",
    "import matplotlib.pyplot as plt\n",
    "\n",
    "years = [1950, 1960, 1970, 1980, 1990, 2000, 2010]\n",
    "gdp = [300.2, 543.3, 1075.9, 2862.5, 5979.6, 10289.7, 14958.3]\n",
    "\n",
    "plt.plot(years, gdp, color='red', marker='o', linestyle='solid')\n",
    "plt.title(\"Nominal GDP\")\n",
    "plt.ylabel(\"Billions of $\")\n",
    "plt.grid(b=True, which='major', color='#666666', linestyle='--') # グリッド線の表示\n",
    "plt.show()"
   ]
  },
  {
   "cell_type": "code",
   "execution_count": null,
   "metadata": {},
   "outputs": [],
   "source": [
    "import matplotlib.pyplot as plt\n",
    "\n",
    "x = 2 * np.random.rand(100, 1)\n",
    "y = 4 + 3 * x + np.random.randn(100, 1)\n",
    "\n",
    "plt.plot(x, y, \"b.\")\n",
    "plt.xlabel(\"$x$\", fontsize=12)\n",
    "plt.ylabel(\"$y$\", rotation=0, fontsize=12)\n",
    "plt.axis([0, 2, 0, 15])\n",
    "plt.show()"
   ]
  },
  {
   "cell_type": "code",
   "execution_count": null,
   "metadata": {},
   "outputs": [],
   "source": []
  }
 ],
 "metadata": {
  "kernelspec": {
   "display_name": "Python 3",
   "language": "python",
   "name": "python3"
  },
  "language_info": {
   "codemirror_mode": {
    "name": "ipython",
    "version": 3
   },
   "file_extension": ".py",
   "mimetype": "text/x-python",
   "name": "python",
   "nbconvert_exporter": "python",
   "pygments_lexer": "ipython3",
   "version": "3.6.5"
  }
 },
 "nbformat": 4,
 "nbformat_minor": 2
}
